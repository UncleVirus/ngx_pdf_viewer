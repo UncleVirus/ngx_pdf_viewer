{
 "cells": [
  {
   "cell_type": "markdown",
   "metadata": {},
   "source": [
    "This list contains the daily high temperatures in Williamsburg for last December"
   ]
  },
  {
   "cell_type": "code",
   "execution_count": null,
   "metadata": {
    "collapsed": true
   },
   "outputs": [],
   "source": [
    "str_eg = [59.0, 54.0, 53.1, 57.9, 69.1, 62.1, 51.1, 43.0, 35.1, 41.0, 51.1, 50.0, 37.0]"
   ]
  },
  {
   "cell_type": "markdown",
   "metadata": {},
   "source": [
    "This is a list of lists, or a 2-dimensional list, of numerical values.  This \"array\" of values can be used to represent a matrix."
   ]
  },
  {
   "cell_type": "code",
   "execution_count": null,
   "metadata": {
    "collapsed": true
   },
   "outputs": [],
   "source": [
    "I = [[1,0,0],[0,1,0],[0,0,1]]"
   ]
  },
  {
   "cell_type": "markdown",
   "metadata": {},
   "source": [
    "This list of lists contains climate data for Williamsburg.  The first sublist contains descriptors of the data in the subsequent sublists.  Note that some data in the sublists are string data and some are numerical data."
   ]
  },
  {
   "cell_type": "code",
   "execution_count": null,
   "metadata": {
    "collapsed": true
   },
   "outputs": [],
   "source": [
    "str_eg1 = [['Day', 'High(°F)', 'Low(°F)', 'Precip.(inch)'], ['1 Dec', 59.0, 37.0, 0.0], ['2 Dec', 54.0, 32.0, 0.0], ['3 Dec', 53.1, 33.1, 0.0], ['4 Dec', 57.9, 34.0, 0.0], ['5 Dec', 69.1, 41.0, 0.0], ['6 Dec', 62.1, 44.1, 0.22], ['7 Dec', 51.1, 37.0, 0.0], ['8 Dec', 43.0, 33.1, 1.17], ['9 Dec', 35.1, 32.0, 0.73], ['10 Dec', 41.0, 30.9, 0.0], ['11 Dec', 51.1, 28.9, 0.0], ['12 Dec', 50.0, 30.0, 0.13], ['13 Dec', 37.0, 21.0, 0.0], ['14 Dec', 51.1, 33.1, 0.0], ['15 Dec', 43.0, 25.0, 0.0], ['16 Dec', 48.0, 23.0, 0.0], ['17 Dec', 52.0, 27.0, 0.0], ['18 Dec', 61.0, 36.0, 0.0], ['19 Dec', 61.0, 36.0, 0.0], ['20 Dec', 57.0, 37.9, 0.0], ['21 Dec', 50.0, 30.9, 0.0], ['22 Dec', 61.0, 30.9, 0.0], ['23 Dec', 69.1, 50.0, 0.17], ['24 Dec', 53.1, 39.9, 0.0], ['25 Dec', 44.1, 34.0, 0.0], ['26 Dec', 42.1, 27.0, 0.0], ['27 Dec', 39.0, 24.1, 0.0], ['28 Dec', 26.1, 16.0, 0.0], ['29 Dec', 37.9, 18.0, 0.0], ['30 Dec', 41.0, 26.1, 0.0], ['31 Dec', 28.9, 18.0, 0.0]]"
   ]
  },
  {
   "cell_type": "markdown",
   "metadata": {},
   "source": [
    "This list contains data from an email message"
   ]
  },
  {
   "cell_type": "code",
   "execution_count": null,
   "metadata": {
    "collapsed": true
   },
   "outputs": [],
   "source": [
    "email = ['To: PBlossom', 'From: JBradley','Paul,\\nI found an NVIDIA card with 96 cores for less than $100.']"
   ]
  },
  {
   "cell_type": "markdown",
   "metadata": {},
   "source": [
    "This list of lists contains data from multiple email messages"
   ]
  },
  {
   "cell_type": "code",
   "execution_count": null,
   "metadata": {
    "collapsed": true
   },
   "outputs": [],
   "source": [
    "emails = [['To: PBlossom', 'From: JBradley','Paul,\\nI found an NVIDIA card with 96 cores for less than $100.'], ['To: PBlossom', 'From: JBradley','Paul,\\nHave a nice trip']]"
   ]
  },
  {
   "cell_type": "markdown",
   "metadata": {},
   "source": [
    "This list contains data for the cost of shipping from Distribution Center 1 to Retail Store 5"
   ]
  },
  {
   "cell_type": "code",
   "execution_count": null,
   "metadata": {
    "collapsed": true
   },
   "outputs": [],
   "source": [
    "shipCost15 = [1,5,500]  # data format: [DC ID, Store ID, shipping cost] "
   ]
  },
  {
   "cell_type": "markdown",
   "metadata": {},
   "source": [
    "This list of lists contains shipping cost data for all the DC-Store combinations"
   ]
  },
  {
   "cell_type": "code",
   "execution_count": null,
   "metadata": {
    "collapsed": true
   },
   "outputs": [],
   "source": [
    "# data format of sublists: [DC ID, Store ID, shipping cost]\n",
    "shipCost = [[0,0,500],[0,1,500],[0,2,500],[0,3,500],[0,4,500],[0,5,500],[1,1,500],[1,2,500],[1,3,500],[1,4,500],[1,5,500],[2,0,500],[2,1,500],[2,2,500],[2,3,500],[2,4,500],[0,5,500]]  "
   ]
  },
  {
   "cell_type": "code",
   "execution_count": null,
   "metadata": {
    "collapsed": true
   },
   "outputs": [],
   "source": []
  }
 ],
 "metadata": {
  "kernelspec": {
   "display_name": "Python 3",
   "language": "python",
   "name": "python3"
  },
  "language_info": {
   "codemirror_mode": {
    "name": "ipython",
    "version": 3
   },
   "file_extension": ".py",
   "mimetype": "text/x-python",
   "name": "python",
   "nbconvert_exporter": "python",
   "pygments_lexer": "ipython3",
   "version": "3.6.3"
  }
 },
 "nbformat": 4,
 "nbformat_minor": 2
}
