{
 "cells": [
  {
   "cell_type": "markdown",
   "metadata": {},
   "source": [
    "The variable *words*, below, contains the words from the opening passage from The Red Badge of Courage, by Stephen Crane"
   ]
  },
  {
   "cell_type": "code",
   "execution_count": 1,
   "metadata": {
    "collapsed": true
   },
   "outputs": [],
   "source": [
    "words = ['The','cold','passed','reluctantly','from','the','earth']"
   ]
  },
  {
   "cell_type": "code",
   "execution_count": 2,
   "metadata": {},
   "outputs": [
    {
     "data": {
      "text/plain": [
       "7"
      ]
     },
     "execution_count": 2,
     "metadata": {},
     "output_type": "execute_result"
    }
   ],
   "source": [
    "len(words)"
   ]
  },
  {
   "cell_type": "code",
   "execution_count": 3,
   "metadata": {},
   "outputs": [
    {
     "data": {
      "text/plain": [
       "range(0, 7)"
      ]
     },
     "execution_count": 3,
     "metadata": {},
     "output_type": "execute_result"
    }
   ],
   "source": [
    "range(len(words))"
   ]
  },
  {
   "cell_type": "code",
   "execution_count": 4,
   "metadata": {},
   "outputs": [
    {
     "data": {
      "text/plain": [
       "[0, 1, 2, 3, 4, 5, 6]"
      ]
     },
     "execution_count": 4,
     "metadata": {},
     "output_type": "execute_result"
    }
   ],
   "source": [
    "list(range(len(words)))"
   ]
  },
  {
   "cell_type": "code",
   "execution_count": 5,
   "metadata": {},
   "outputs": [
    {
     "name": "stdout",
     "output_type": "stream",
     "text": [
      "The\n",
      "cold\n",
      "passed\n",
      "reluctantly\n",
      "from\n",
      "the\n",
      "earth\n"
     ]
    }
   ],
   "source": [
    "for i in list(range(len(words))):\n",
    "    print(words[i])"
   ]
  },
  {
   "cell_type": "code",
   "execution_count": 6,
   "metadata": {},
   "outputs": [
    {
     "name": "stdout",
     "output_type": "stream",
     "text": [
      "The\n",
      "cold\n",
      "passed\n",
      "reluctantly\n",
      "from\n",
      "the\n",
      "earth\n"
     ]
    }
   ],
   "source": [
    "for i in range(len(words)):\n",
    "    print(words[i])"
   ]
  },
  {
   "cell_type": "code",
   "execution_count": 7,
   "metadata": {},
   "outputs": [
    {
     "name": "stdout",
     "output_type": "stream",
     "text": [
      "The\n",
      "cold\n",
      "passed\n",
      "reluctantly\n",
      "from\n",
      "the\n",
      "earth\n"
     ]
    }
   ],
   "source": [
    "for word in words:\n",
    "    print(word)"
   ]
  },
  {
   "cell_type": "code",
   "execution_count": 8,
   "metadata": {},
   "outputs": [
    {
     "name": "stdout",
     "output_type": "stream",
     "text": [
      "['The', 'cold', 'passed', 'reluctantly', 'from', 'the', 'earth']\n",
      "['The', 'warm', 'passed', 'reluctantly', 'from', 'the', 'earth']\n"
     ]
    }
   ],
   "source": [
    "for word in words:\n",
    "    if word == 'cold':\n",
    "        word = 'warm'\n",
    "print(words)\n",
    "\n",
    "for i in range(len(words)):\n",
    "    if i == 1:\n",
    "        words[i] = 'warm'\n",
    "print(words)"
   ]
  },
  {
   "cell_type": "code",
   "execution_count": 10,
   "metadata": {},
   "outputs": [
    {
     "name": "stdout",
     "output_type": "stream",
     "text": [
      "\n",
      "The\n",
      "T\n",
      "h\n",
      "e\n",
      "\n",
      "warm\n",
      "w\n",
      "a\n",
      "r\n",
      "m\n",
      "\n",
      "passed\n",
      "p\n",
      "a\n",
      "s\n",
      "s\n",
      "e\n",
      "d\n",
      "\n",
      "reluctantly\n",
      "r\n",
      "e\n",
      "l\n",
      "u\n",
      "c\n",
      "t\n",
      "a\n",
      "n\n",
      "t\n",
      "l\n",
      "y\n",
      "\n",
      "from\n",
      "f\n",
      "r\n",
      "o\n",
      "m\n",
      "\n",
      "the\n",
      "t\n",
      "h\n",
      "e\n",
      "\n",
      "earth\n",
      "e\n",
      "a\n",
      "r\n",
      "t\n",
      "h\n"
     ]
    }
   ],
   "source": [
    "for word in words:\n",
    "    print('\\n'+word)\n",
    "    for letter in word:\n",
    "        print(letter)\n",
    "    #print()"
   ]
  },
  {
   "cell_type": "code",
   "execution_count": null,
   "metadata": {
    "collapsed": true
   },
   "outputs": [],
   "source": []
  }
 ],
 "metadata": {
  "kernelspec": {
   "display_name": "Python 3",
   "language": "python",
   "name": "python3"
  },
  "language_info": {
   "codemirror_mode": {
    "name": "ipython",
    "version": 3
   },
   "file_extension": ".py",
   "mimetype": "text/x-python",
   "name": "python",
   "nbconvert_exporter": "python",
   "pygments_lexer": "ipython3",
   "version": "3.6.3"
  }
 },
 "nbformat": 4,
 "nbformat_minor": 2
}
