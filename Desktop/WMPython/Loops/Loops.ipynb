{
 "cells": [
  {
   "cell_type": "markdown",
   "metadata": {
    "id": "b89vQglf-OY7"
   },
   "source": [
    "Temperature Readings in Fahrenheit"
   ]
  },
  {
   "cell_type": "code",
   "execution_count": 1,
   "metadata": {
    "id": "vcEPf2cS-OZB",
    "outputId": "286c114b-012e-48fc-cf5e-1998a915b12e"
   },
   "outputs": [
    {
     "name": "stdout",
     "output_type": "stream",
     "text": [
      "56.2\n",
      "31.8\n",
      "x\n",
      "81.7\n",
      "45.6\n",
      "71.3\n",
      "this is text\n",
      "62.9\n",
      "59.0\n",
      "92.5\n",
      "95.0\n",
      "19.2\n",
      "15.0\n"
     ]
    }
   ],
   "source": [
    "temps = [56.2,31.8,'x',81.7,45.6,71.3,'this is text',62.9,59.0,92.5,95.0,19.2,15.0]\n",
    "for i in temps:\n",
    "    print(i)\n"
   ]
  },
  {
   "cell_type": "code",
   "execution_count": null,
   "metadata": {
    "id": "bhWFWLB2-OZI",
    "outputId": "b7fc86c8-8a96-4f05-fe86-5c56465d7643"
   },
   "outputs": [],
   "source": [
    "try:\n",
    "    Fahrenheit_1 = float(input(\"Temperature value in Fahrenheit: \"))\n",
    "    # For Converting the temperature to celcius degree from Fahrenheit by using the above.\n",
    "    # given formula.\n",
    "    celcius_1 = (Fahrenheit_1 - 32.0) * 5 / 9.\n",
    "    # print the result.\n",
    "    print(\"The Celsius equivalent of the temperature you entered\", Fahrenheit_1, \"is\", celcius_1, \"degrees Celsius.\")\n",
    "except ValueError:\n",
    "    print(\"wrong format\")"
   ]
  },
  {
   "cell_type": "markdown",
   "metadata": {
    "id": "mat0iFS4-UFf"
   },
   "source": [
    "final for converting temprature from Fahrenheit to degrees celcius"
   ]
  },
  {
   "cell_type": "code",
   "execution_count": null,
   "metadata": {
    "colab": {
     "base_uri": "https://localhost:8080/"
    },
    "id": "riDEF6U1-OZN",
    "outputId": "03f7398d-bafd-44a7-c0ab-83baef412ca4"
   },
   "outputs": [],
   "source": [
    "temps = [56.2,31.8,'x',81.7,45.6,71.3,'this is text',62.9,59.0,92.5,95.0,19.2,15.0]\n",
    "\n",
    "for x in temps:\n",
    "    try:\n",
    "        celcius_1 = (x - 32.0) * 5 / 9\n",
    "        print(celcius_1)\n",
    "    except TypeError:\n",
    "        print(\"wrong format\")"
   ]
  },
  {
   "cell_type": "code",
   "execution_count": null,
   "metadata": {},
   "outputs": [],
   "source": []
  }
 ],
 "metadata": {
  "colab": {
   "provenance": []
  },
  "kernelspec": {
   "display_name": "Python 3 (ipykernel)",
   "language": "python",
   "name": "python3"
  },
  "language_info": {
   "codemirror_mode": {
    "name": "ipython",
    "version": 3
   },
   "file_extension": ".py",
   "mimetype": "text/x-python",
   "name": "python",
   "nbconvert_exporter": "python",
   "pygments_lexer": "ipython3",
   "version": "3.9.13"
  }
 },
 "nbformat": 4,
 "nbformat_minor": 1
}
