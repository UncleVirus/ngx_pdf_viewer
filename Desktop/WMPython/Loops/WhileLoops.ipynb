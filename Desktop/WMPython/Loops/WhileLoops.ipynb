{
 "cells": [
  {
   "cell_type": "code",
   "execution_count": 1,
   "metadata": {},
   "outputs": [
    {
     "name": "stdout",
     "output_type": "stream",
     "text": [
      "sum = 1.9999999850988388     number of iterations = 27\n"
     ]
    }
   ],
   "source": [
    "x = 0.5\n",
    "sum_power = 0.0\n",
    "i = 0\n",
    "while x**i > 0.00000001:\n",
    "    sum_power += x**i\n",
    "    i += 1\n",
    "print('sum =', sum_power, '    number of iterations =', i)"
   ]
  },
  {
   "cell_type": "code",
   "execution_count": 4,
   "metadata": {},
   "outputs": [
    {
     "name": "stdout",
     "output_type": "stream",
     "text": [
      "Test: False      Type: <class 'bool'>\n"
     ]
    }
   ],
   "source": [
    "x = 0.5\n",
    "i = 27\n",
    "print('Test:', x**i > 0.00000001, '     Type:', type(x**i > 0.00000001))"
   ]
  },
  {
   "cell_type": "code",
   "execution_count": null,
   "metadata": {
    "collapsed": true
   },
   "outputs": [],
   "source": []
  }
 ],
 "metadata": {
  "kernelspec": {
   "display_name": "Python 3",
   "language": "python",
   "name": "python3"
  },
  "language_info": {
   "codemirror_mode": {
    "name": "ipython",
    "version": 3
   },
   "file_extension": ".py",
   "mimetype": "text/x-python",
   "name": "python",
   "nbconvert_exporter": "python",
   "pygments_lexer": "ipython3",
   "version": "3.6.3"
  }
 },
 "nbformat": 4,
 "nbformat_minor": 2
}
